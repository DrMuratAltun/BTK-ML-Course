{
 "cells": [
  {
   "cell_type": "code",
   "execution_count": 4,
   "id": "9f9da7f4",
   "metadata": {},
   "outputs": [
    {
     "name": "stdout",
     "output_type": "stream",
     "text": [
      "KAtegori: yemek\n",
      "Sentence: ali yemek yedi\n",
      "KAtegori: ekmek\n",
      "Sentence: Ahmet ekmek yedi\n"
     ]
    }
   ],
   "source": [
    "#result= querygpt(user_input, custom_prompt)\n",
    "import json\n",
    "liste=[\"yemek\",\"ali yemek yedi\", \"ekmek\", \"Ahmet ekmek yedi\"]\n",
    "for eleman in liste:\n",
    "    #if eleman index is even\n",
    "    if liste.index(eleman) % 2 == 0:\n",
    "        print(\"Kategori:\", eleman)\n",
    "        json.loads(eleman)\n",
    "    elif liste.index(eleman) % 2 == 1:\n",
    "        print(\"Sentence:\", eleman)\n",
    "        '''\n",
    "        categories= json.loads(liste[0])\n",
    "        sentences= json.loads(liste[1])'''"
   ]
  },
  {
   "cell_type": "code",
   "execution_count": 7,
   "id": "7d5891fe",
   "metadata": {},
   "outputs": [
    {
     "name": "stdout",
     "output_type": "stream",
     "text": [
      "[{\"Kategori\": [\"yemek\", \"ekmek\"], \"Sentence\": [\"ali yemek yedi\", \"Ahmet ekmek yedi\"]}]\n"
     ]
    }
   ],
   "source": [
    "import json\n",
    "\n",
    "liste = [\"yemek\", \"ali yemek yedi\", \"ekmek\", \"Ahmet ekmek yedi\"]\n",
    "data = []\n",
    "kategori=[]\n",
    "sentence=[]\n",
    "\n",
    "for i, eleman in enumerate(liste):\n",
    "    if i % 2 == 0:  # if the index is even\n",
    "        kategori.append(eleman)  \n",
    "    else:  # if the index is odd\n",
    "        sentence.append(eleman)  \n",
    "data.append({\"Kategori\": kategori, \"Sentence\": sentence})\n",
    "\n",
    "json_data = json.dumps(data)\n",
    "print(json_data)\n"
   ]
  },
  {
   "cell_type": "code",
   "execution_count": null,
   "id": "16f26d73",
   "metadata": {},
   "outputs": [],
   "source": []
  }
 ],
 "metadata": {
  "kernelspec": {
   "display_name": "Python 3 (ipykernel)",
   "language": "python",
   "name": "python3"
  },
  "language_info": {
   "codemirror_mode": {
    "name": "ipython",
    "version": 3
   },
   "file_extension": ".py",
   "mimetype": "text/x-python",
   "name": "python",
   "nbconvert_exporter": "python",
   "pygments_lexer": "ipython3",
   "version": "3.11.3"
  }
 },
 "nbformat": 4,
 "nbformat_minor": 5
}
